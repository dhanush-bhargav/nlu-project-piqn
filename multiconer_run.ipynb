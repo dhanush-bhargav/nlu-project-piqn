{
 "cells": [
  {
   "cell_type": "markdown",
   "id": "26023e00",
   "metadata": {},
   "source": [
    "## Evaluating PIQN NER Model on MultiCoNER"
   ]
  },
  {
   "cell_type": "markdown",
   "id": "974ad86c",
   "metadata": {},
   "source": [
    "Ali and Dhanush"
   ]
  },
  {
   "cell_type": "code",
   "execution_count": 1,
   "id": "fd0f54de",
   "metadata": {},
   "outputs": [],
   "source": [
    "import argparse\n",
    "# from flair.models import SequenceTagger\n",
    "# from flair.data import Sentence\n",
    "from datasets import load_dataset\n",
    "import json\n",
    "import os"
   ]
  },
  {
   "cell_type": "markdown",
   "id": "4d07d2c624bf7dd0",
   "metadata": {},
   "source": [
    "#### Pre Processing"
   ]
  },
  {
   "cell_type": "code",
   "execution_count": 2,
   "id": "50a03c80",
   "metadata": {},
   "outputs": [],
   "source": [
    "CONVERSION_DICT = {\n",
    "    \"Facility\": \"location-facility\",\n",
    "    \"OtherLOC\": \"location-other\",\n",
    "    \"HumanSettlement\": \"location-human_settlement\",\n",
    "    \"Station\": \"location-station\",\n",
    "    \"VisualWork\": \"creative-visual\",\n",
    "    \"MusicalWork\": \"creative-music\",\n",
    "    \"WrittenWork\": \"creative-written\",\n",
    "    \"ArtWork\": \"creative-art\",\n",
    "    \"Software\": \"creative-software\",\n",
    "    \"MusicalGRP\": \"group-musical\",\n",
    "    \"PublicCorp\": \"group-public_corp\",\n",
    "    \"PrivateCorp\": \"group-private_corp\",\n",
    "    \"AerospaceManufacturer\": \"group-aerospace_manufacturer\",\n",
    "    \"SportsGRP\": \"group-sports\",\n",
    "    \"CarManufacturer\": \"group-car_manufacturer\",\n",
    "    \"ORG\": \"group-organization\",\n",
    "    \"Scientist\": \"person-scientist\",\n",
    "    \"Artist\": \"person-artist\",\n",
    "    \"Athlete\": \"person-athlete\",\n",
    "    \"Politician\": \"person-politician\",\n",
    "    \"Cleric\": \"person-cleric\",\n",
    "    \"SportsManager\": \"person-sports_manager\",\n",
    "    \"OtherPER\": \"person-other\",\n",
    "    \"Clothing\": \"product-clothing\",\n",
    "    \"Vehicle\": \"product-vehicle\",\n",
    "    \"Food\": \"product-food\",\n",
    "    \"Drink\": \"product-drink\",\n",
    "    \"OtherPROD\": \"product-other\",\n",
    "    \"Medication/Vaccine\": \"medical-medication\",\n",
    "    \"MedicalProcedure\": \"medical-procedure\",\n",
    "    \"AnatomicalStructure\": \"medical-anatomy\",\n",
    "    \"Symptom\": \"medical-symptom\",\n",
    "    \"Disease\": \"medical-disease\"\n",
    "}"
   ]
  },
  {
   "cell_type": "code",
   "execution_count": 3,
   "id": "9f3edc0a",
   "metadata": {},
   "outputs": [],
   "source": [
    "# POS Tagger\n",
    "def pos_tag_tokens(tokens, pos_tagger):\n",
    "\n",
    "    # sentence = Sentence(tokens)\n",
    "    # pos_tagger.predict(sentence)\n",
    "    pos_tags = [\"NOUN\" for token in tokens]\n",
    "\n",
    "    return pos_tags\n",
    "\n",
    "\n",
    "def convert_tokens(sample, pos_tagger):\n",
    "    \"\"\"\n",
    "    Creates a dictionary that maps tokens to their corresponding POS tags.\n",
    "\n",
    "    Args:\n",
    "        sample : A data sample containing tokens, NER tags and id\n",
    "        pos_tagger : An instance of flair.SequenceTagger\n",
    "\n",
    "    Returns:\n",
    "        converted_dict: a dictionary that maps the MultiCoNER sample to a PIQN sample.\n",
    "    \"\"\"\n",
    "\n",
    "    converted_dict = {\n",
    "        \"tokens\": sample['tokens'],\n",
    "        \"entities\": extract_entities(sample['ner_tags']),\n",
    "        \"org_id\": sample[\"id\"],\n",
    "        \"relations\": {},\n",
    "        \"pos\": pos_tag_tokens(sample['tokens'], pos_tagger),\n",
    "        \"ltokens\": [],\n",
    "        \"rtokens\": [],\n",
    "    }\n",
    "\n",
    "    return converted_dict\n",
    "\n",
    "\n",
    "def extract_entities(ner_tags):\n",
    "    entities = []\n",
    "    entity_dict = {}\n",
    "    entity = \"\"\n",
    "    start = -1\n",
    "    for idx, tag in enumerate(ner_tags):\n",
    "        if tag == \"O\":\n",
    "            if entity == \"\":\n",
    "                continue\n",
    "            elif start!=-1:\n",
    "                entity_dict[\"type\"] = entity\n",
    "                entity_dict[\"start\"] = start\n",
    "                entity_dict[\"end\"] = idx\n",
    "                entities.append(entity_dict)\n",
    "                entity = \"\"\n",
    "                start = -1\n",
    "                entity_dict = {}\n",
    "        elif tag.split(\"-\")[0] == \"B\":\n",
    "            entity = CONVERSION_DICT[tag.split(\"-\")[1]]\n",
    "            start = idx\n",
    "        elif tag.split(\"-\")[0] == \"I\" and entity != \"\":\n",
    "            continue\n",
    "\n",
    "    return entities"
   ]
  },
  {
   "cell_type": "code",
   "execution_count": null,
   "id": "3566dd9d",
   "metadata": {},
   "outputs": [],
   "source": [
    "# if __name__ == \"__main__\":\n",
    "\n",
    "#     parser = argparse.ArgumentParser()\n",
    "#     parser.add_argument(\"--language\", type=str, default=\"German (DE)\")\n",
    "#     parser.add_argument(\"--split\", type=str, default=\"train\")\n",
    "#     parser.add_argument(\"--save-dir\", type=str, default=\"./data/multiconer\")\n",
    "\n",
    "#     args = parser.parse_args()\n",
    "#     language = args.language\n",
    "#     split = args.split\n",
    "#     save_dir = args.save_dir\n",
    "\n",
    "#     # pos_tagger = SequenceTagger.load(\"flair/upos-multi\")\n",
    "#     dataset = load_dataset(\"MultiCoNER/multiconer_v2\", language)\n",
    "#     converted_json = [convert_tokens(example, None) for example in dataset[split]]\n",
    "\n",
    "#     with open(save_dir + os.path.sep + f\"MultiCoNER_{language.split()[0]}_{split}.json\", \"w\") as f:\n",
    "#         json.dump(converted_json, f)"
   ]
  },
  {
   "cell_type": "code",
   "execution_count": null,
   "id": "f5ee3247",
   "metadata": {},
   "outputs": [],
   "source": [
    "def process_language_splits(language, save_dir=\"./data/multiconer\"):\n",
    "    \"\"\"\n",
    "    Process and save train, test, and validation splits for a specific language.\n",
    "    \n",
    "    Args:\n",
    "        language (str): The language to process (e.g., \"German (DE)\").\n",
    "        save_dir (str): Directory to save the processed files.\n",
    "    \"\"\"\n",
    "    dataset = load_dataset(\"MultiCoNER/multiconer_v2\", language)\n",
    "\n",
    "    os.makedirs(save_dir, exist_ok=True)\n",
    "\n",
    "\n",
    "    for split in [\"train\", \"validation\", \"test\"]:\n",
    "        print(f\"Processing {split} split for language: {language}\")\n",
    "        \n",
    "        converted_data = [convert_tokens(example,None) for example in dataset[split]]\n",
    "        \n",
    "        save_path = os.path.join(save_dir, f\"MultiCoNER_{language.split()[0]}_{split}.json\")\n",
    "        with open(save_path, \"w\", encoding=\"utf-8\") as f:\n",
    "            json.dump(converted_data, f, ensure_ascii=False, indent=4)\n",
    "        \n",
    "        print(f\"Saved: {save_path}\")"
   ]
  },
  {
   "cell_type": "code",
   "execution_count": 8,
   "id": "1e4aa91d",
   "metadata": {},
   "outputs": [
    {
     "data": {
      "application/vnd.jupyter.widget-view+json": {
       "model_id": "487142bf3c1a46f7a1dbd9847236d287",
       "version_major": 2,
       "version_minor": 0
      },
      "text/plain": [
       "0000.parquet:   0%|          | 0.00/1.24M [00:00<?, ?B/s]"
      ]
     },
     "metadata": {},
     "output_type": "display_data"
    },
    {
     "data": {
      "application/vnd.jupyter.widget-view+json": {
       "model_id": "ef47c677017f4b47b3226eab63e61ab7",
       "version_major": 2,
       "version_minor": 0
      },
      "text/plain": [
       "0000.parquet:   0%|          | 0.00/81.1k [00:00<?, ?B/s]"
      ]
     },
     "metadata": {},
     "output_type": "display_data"
    },
    {
     "data": {
      "application/vnd.jupyter.widget-view+json": {
       "model_id": "f7967aee4b1d4d7ea37c9a6d7eb01d89",
       "version_major": 2,
       "version_minor": 0
      },
      "text/plain": [
       "0000.parquet:   0%|          | 0.00/2.60M [00:00<?, ?B/s]"
      ]
     },
     "metadata": {},
     "output_type": "display_data"
    },
    {
     "data": {
      "application/vnd.jupyter.widget-view+json": {
       "model_id": "372bcd60b2e14e2090bbfe72afdd72c5",
       "version_major": 2,
       "version_minor": 0
      },
      "text/plain": [
       "Generating train split:   0%|          | 0/9708 [00:00<?, ? examples/s]"
      ]
     },
     "metadata": {},
     "output_type": "display_data"
    },
    {
     "data": {
      "application/vnd.jupyter.widget-view+json": {
       "model_id": "7c7e41046a1346699bc3438043eb1b22",
       "version_major": 2,
       "version_minor": 0
      },
      "text/plain": [
       "Generating validation split:   0%|          | 0/507 [00:00<?, ? examples/s]"
      ]
     },
     "metadata": {},
     "output_type": "display_data"
    },
    {
     "data": {
      "application/vnd.jupyter.widget-view+json": {
       "model_id": "abc70018179b428f951a8131f75f1858",
       "version_major": 2,
       "version_minor": 0
      },
      "text/plain": [
       "Generating test split:   0%|          | 0/19859 [00:00<?, ? examples/s]"
      ]
     },
     "metadata": {},
     "output_type": "display_data"
    },
    {
     "name": "stdout",
     "output_type": "stream",
     "text": [
      "Processing train split for language: Bangla (BN)\n",
      "Saved: ./data/multiconer\\MultiCoNER_Bangla_train.json\n",
      "Processing validation split for language: Bangla (BN)\n",
      "Saved: ./data/multiconer\\MultiCoNER_Bangla_validation.json\n",
      "Processing test split for language: Bangla (BN)\n",
      "Saved: ./data/multiconer\\MultiCoNER_Bangla_test.json\n"
     ]
    },
    {
     "data": {
      "application/vnd.jupyter.widget-view+json": {
       "model_id": "51f34c41e5b949a09c0bb89a653fb0f6",
       "version_major": 2,
       "version_minor": 0
      },
      "text/plain": [
       "0000.parquet:   0%|          | 0.00/1.14M [00:00<?, ?B/s]"
      ]
     },
     "metadata": {},
     "output_type": "display_data"
    },
    {
     "data": {
      "application/vnd.jupyter.widget-view+json": {
       "model_id": "dc0e7d057bcd4fd2bf5a67b7085cdd15",
       "version_major": 2,
       "version_minor": 0
      },
      "text/plain": [
       "0000.parquet:   0%|          | 0.00/71.8k [00:00<?, ?B/s]"
      ]
     },
     "metadata": {},
     "output_type": "display_data"
    },
    {
     "data": {
      "application/vnd.jupyter.widget-view+json": {
       "model_id": "11f0ef54837344bd98d290d85b5b2644",
       "version_major": 2,
       "version_minor": 0
      },
      "text/plain": [
       "0000.parquet:   0%|          | 0.00/2.35M [00:00<?, ?B/s]"
      ]
     },
     "metadata": {},
     "output_type": "display_data"
    },
    {
     "data": {
      "application/vnd.jupyter.widget-view+json": {
       "model_id": "adcb7b9175fe46bc956d373107ccc450",
       "version_major": 2,
       "version_minor": 0
      },
      "text/plain": [
       "Generating train split:   0%|          | 0/9759 [00:00<?, ? examples/s]"
      ]
     },
     "metadata": {},
     "output_type": "display_data"
    },
    {
     "data": {
      "application/vnd.jupyter.widget-view+json": {
       "model_id": "ed9f7a7f610240c8b8f7ae80cf28a413",
       "version_major": 2,
       "version_minor": 0
      },
      "text/plain": [
       "Generating validation split:   0%|          | 0/506 [00:00<?, ? examples/s]"
      ]
     },
     "metadata": {},
     "output_type": "display_data"
    },
    {
     "data": {
      "application/vnd.jupyter.widget-view+json": {
       "model_id": "0eff923cd2e04860a69cad898871f186",
       "version_major": 2,
       "version_minor": 0
      },
      "text/plain": [
       "Generating test split:   0%|          | 0/20265 [00:00<?, ? examples/s]"
      ]
     },
     "metadata": {},
     "output_type": "display_data"
    },
    {
     "name": "stdout",
     "output_type": "stream",
     "text": [
      "Processing train split for language: Chinese (ZH)\n",
      "Saved: ./data/multiconer\\MultiCoNER_Chinese_train.json\n",
      "Processing validation split for language: Chinese (ZH)\n",
      "Saved: ./data/multiconer\\MultiCoNER_Chinese_validation.json\n",
      "Processing test split for language: Chinese (ZH)\n",
      "Saved: ./data/multiconer\\MultiCoNER_Chinese_test.json\n",
      "Processing train split for language: English (EN)\n",
      "Saved: ./data/multiconer\\MultiCoNER_English_train.json\n",
      "Processing validation split for language: English (EN)\n",
      "Saved: ./data/multiconer\\MultiCoNER_English_validation.json\n",
      "Processing test split for language: English (EN)\n",
      "Saved: ./data/multiconer\\MultiCoNER_English_test.json\n",
      "Processing train split for language: Farsi (FA)\n",
      "Saved: ./data/multiconer\\MultiCoNER_Farsi_train.json\n",
      "Processing validation split for language: Farsi (FA)\n",
      "Saved: ./data/multiconer\\MultiCoNER_Farsi_validation.json\n",
      "Processing test split for language: Farsi (FA)\n",
      "Saved: ./data/multiconer\\MultiCoNER_Farsi_test.json\n",
      "Processing train split for language: French (FR)\n",
      "Saved: ./data/multiconer\\MultiCoNER_French_train.json\n",
      "Processing validation split for language: French (FR)\n",
      "Saved: ./data/multiconer\\MultiCoNER_French_validation.json\n",
      "Processing test split for language: French (FR)\n",
      "Saved: ./data/multiconer\\MultiCoNER_French_test.json\n"
     ]
    },
    {
     "data": {
      "application/vnd.jupyter.widget-view+json": {
       "model_id": "ec377e55e5794edb94702f6a80bbca61",
       "version_major": 2,
       "version_minor": 0
      },
      "text/plain": [
       "0000.parquet:   0%|          | 0.00/1.27M [00:00<?, ?B/s]"
      ]
     },
     "metadata": {},
     "output_type": "display_data"
    },
    {
     "data": {
      "application/vnd.jupyter.widget-view+json": {
       "model_id": "d7a7f43d450d4326b559d194afcabd1b",
       "version_major": 2,
       "version_minor": 0
      },
      "text/plain": [
       "0000.parquet:   0%|          | 0.00/78.2k [00:00<?, ?B/s]"
      ]
     },
     "metadata": {},
     "output_type": "display_data"
    },
    {
     "data": {
      "application/vnd.jupyter.widget-view+json": {
       "model_id": "9c3e428f88de4d04b001baa7e8a15038",
       "version_major": 2,
       "version_minor": 0
      },
      "text/plain": [
       "0000.parquet:   0%|          | 0.00/2.59M [00:00<?, ?B/s]"
      ]
     },
     "metadata": {},
     "output_type": "display_data"
    },
    {
     "data": {
      "application/vnd.jupyter.widget-view+json": {
       "model_id": "574c84980f9b44398231bfcb16dd75c1",
       "version_major": 2,
       "version_minor": 0
      },
      "text/plain": [
       "Generating train split:   0%|          | 0/9785 [00:00<?, ? examples/s]"
      ]
     },
     "metadata": {},
     "output_type": "display_data"
    },
    {
     "data": {
      "application/vnd.jupyter.widget-view+json": {
       "model_id": "bf3eaf97f2a54389ae02b8d4a93d12dd",
       "version_major": 2,
       "version_minor": 0
      },
      "text/plain": [
       "Generating validation split:   0%|          | 0/512 [00:00<?, ? examples/s]"
      ]
     },
     "metadata": {},
     "output_type": "display_data"
    },
    {
     "data": {
      "application/vnd.jupyter.widget-view+json": {
       "model_id": "0043b4f8cd324a7db9f03cd52c050ae5",
       "version_major": 2,
       "version_minor": 0
      },
      "text/plain": [
       "Generating test split:   0%|          | 0/20145 [00:00<?, ? examples/s]"
      ]
     },
     "metadata": {},
     "output_type": "display_data"
    },
    {
     "name": "stdout",
     "output_type": "stream",
     "text": [
      "Processing train split for language: German (DE)\n",
      "Saved: ./data/multiconer\\MultiCoNER_German_train.json\n",
      "Processing validation split for language: German (DE)\n",
      "Saved: ./data/multiconer\\MultiCoNER_German_validation.json\n",
      "Processing test split for language: German (DE)\n",
      "Saved: ./data/multiconer\\MultiCoNER_German_test.json\n",
      "Processing train split for language: Hindi (HI)\n",
      "Saved: ./data/multiconer\\MultiCoNER_Hindi_train.json\n",
      "Processing validation split for language: Hindi (HI)\n",
      "Saved: ./data/multiconer\\MultiCoNER_Hindi_validation.json\n",
      "Processing test split for language: Hindi (HI)\n",
      "Saved: ./data/multiconer\\MultiCoNER_Hindi_test.json\n",
      "Processing train split for language: Italian (IT)\n",
      "Saved: ./data/multiconer\\MultiCoNER_Italian_train.json\n",
      "Processing validation split for language: Italian (IT)\n",
      "Saved: ./data/multiconer\\MultiCoNER_Italian_validation.json\n",
      "Processing test split for language: Italian (IT)\n",
      "Saved: ./data/multiconer\\MultiCoNER_Italian_test.json\n"
     ]
    },
    {
     "data": {
      "application/vnd.jupyter.widget-view+json": {
       "model_id": "772899a34c164791bf01191fafb627fc",
       "version_major": 2,
       "version_minor": 0
      },
      "text/plain": [
       "0000.parquet:   0%|          | 0.00/20.8M [00:00<?, ?B/s]"
      ]
     },
     "metadata": {},
     "output_type": "display_data"
    },
    {
     "data": {
      "application/vnd.jupyter.widget-view+json": {
       "model_id": "18c7253b03644282bcf4623ce4f88dcc",
       "version_major": 2,
       "version_minor": 0
      },
      "text/plain": [
       "0000.parquet:   0%|          | 0.00/1.23M [00:00<?, ?B/s]"
      ]
     },
     "metadata": {},
     "output_type": "display_data"
    },
    {
     "data": {
      "application/vnd.jupyter.widget-view+json": {
       "model_id": "6bd1a81c19134840a6fd13e1bdd3532f",
       "version_major": 2,
       "version_minor": 0
      },
      "text/plain": [
       "0000.parquet:   0%|          | 0.00/58.1M [00:00<?, ?B/s]"
      ]
     },
     "metadata": {},
     "output_type": "display_data"
    },
    {
     "data": {
      "application/vnd.jupyter.widget-view+json": {
       "model_id": "667d6cbc4d5547d689702059b6d4a2f9",
       "version_major": 2,
       "version_minor": 0
      },
      "text/plain": [
       "Generating train split:   0%|          | 0/170824 [00:00<?, ? examples/s]"
      ]
     },
     "metadata": {},
     "output_type": "display_data"
    },
    {
     "data": {
      "application/vnd.jupyter.widget-view+json": {
       "model_id": "eac15ecf5cf34b49b13e5d89c41808b5",
       "version_major": 2,
       "version_minor": 0
      },
      "text/plain": [
       "Generating validation split:   0%|          | 0/8895 [00:00<?, ? examples/s]"
      ]
     },
     "metadata": {},
     "output_type": "display_data"
    },
    {
     "data": {
      "application/vnd.jupyter.widget-view+json": {
       "model_id": "d069c6976974407896855336fbc50303",
       "version_major": 2,
       "version_minor": 0
      },
      "text/plain": [
       "Generating test split:   0%|          | 0/358668 [00:00<?, ? examples/s]"
      ]
     },
     "metadata": {},
     "output_type": "display_data"
    },
    {
     "name": "stdout",
     "output_type": "stream",
     "text": [
      "Processing train split for language: Multilingual (MULTI)\n",
      "Saved: ./data/multiconer\\MultiCoNER_Multilingual_train.json\n",
      "Processing validation split for language: Multilingual (MULTI)\n",
      "Saved: ./data/multiconer\\MultiCoNER_Multilingual_validation.json\n",
      "Processing test split for language: Multilingual (MULTI)\n",
      "Saved: ./data/multiconer\\MultiCoNER_Multilingual_test.json\n"
     ]
    },
    {
     "data": {
      "application/vnd.jupyter.widget-view+json": {
       "model_id": "61bd0469493f47719f7f9e1fb551851a",
       "version_major": 2,
       "version_minor": 0
      },
      "text/plain": [
       "0000.parquet:   0%|          | 0.00/1.99M [00:00<?, ?B/s]"
      ]
     },
     "metadata": {},
     "output_type": "display_data"
    },
    {
     "data": {
      "application/vnd.jupyter.widget-view+json": {
       "model_id": "c07f0696d10246499c6136d554c73d00",
       "version_major": 2,
       "version_minor": 0
      },
      "text/plain": [
       "0000.parquet:   0%|          | 0.00/116k [00:00<?, ?B/s]"
      ]
     },
     "metadata": {},
     "output_type": "display_data"
    },
    {
     "data": {
      "application/vnd.jupyter.widget-view+json": {
       "model_id": "14b04b4e2d02429faa4100041b85e0bd",
       "version_major": 2,
       "version_minor": 0
      },
      "text/plain": [
       "0000.parquet:   0%|          | 0.00/27.2M [00:00<?, ?B/s]"
      ]
     },
     "metadata": {},
     "output_type": "display_data"
    },
    {
     "data": {
      "application/vnd.jupyter.widget-view+json": {
       "model_id": "72787f2b07c94b8e862f6dd5c9e06268",
       "version_major": 2,
       "version_minor": 0
      },
      "text/plain": [
       "Generating train split:   0%|          | 0/16469 [00:00<?, ? examples/s]"
      ]
     },
     "metadata": {},
     "output_type": "display_data"
    },
    {
     "data": {
      "application/vnd.jupyter.widget-view+json": {
       "model_id": "55b48e3cdda041dcabb7e2c33b7dc79f",
       "version_major": 2,
       "version_minor": 0
      },
      "text/plain": [
       "Generating validation split:   0%|          | 0/854 [00:00<?, ? examples/s]"
      ]
     },
     "metadata": {},
     "output_type": "display_data"
    },
    {
     "data": {
      "application/vnd.jupyter.widget-view+json": {
       "model_id": "54845b21928e437b8fac4153f0815acc",
       "version_major": 2,
       "version_minor": 0
      },
      "text/plain": [
       "Generating test split:   0%|          | 0/229490 [00:00<?, ? examples/s]"
      ]
     },
     "metadata": {},
     "output_type": "display_data"
    },
    {
     "name": "stdout",
     "output_type": "stream",
     "text": [
      "Processing train split for language: Portuguese (PT)\n",
      "Saved: ./data/multiconer\\MultiCoNER_Portuguese_train.json\n",
      "Processing validation split for language: Portuguese (PT)\n",
      "Saved: ./data/multiconer\\MultiCoNER_Portuguese_validation.json\n",
      "Processing test split for language: Portuguese (PT)\n",
      "Saved: ./data/multiconer\\MultiCoNER_Portuguese_test.json\n"
     ]
    },
    {
     "data": {
      "application/vnd.jupyter.widget-view+json": {
       "model_id": "c9486c3142ce4b388aefb400f45373e1",
       "version_major": 2,
       "version_minor": 0
      },
      "text/plain": [
       "0000.parquet:   0%|          | 0.00/2.00M [00:00<?, ?B/s]"
      ]
     },
     "metadata": {},
     "output_type": "display_data"
    },
    {
     "data": {
      "application/vnd.jupyter.widget-view+json": {
       "model_id": "a79978da23d34998a266ed9987945d5f",
       "version_major": 2,
       "version_minor": 0
      },
      "text/plain": [
       "0000.parquet:   0%|          | 0.00/118k [00:00<?, ?B/s]"
      ]
     },
     "metadata": {},
     "output_type": "display_data"
    },
    {
     "data": {
      "application/vnd.jupyter.widget-view+json": {
       "model_id": "47c61cc212da490da2e8ae9d0215cd30",
       "version_major": 2,
       "version_minor": 0
      },
      "text/plain": [
       "0000.parquet:   0%|          | 0.00/29.4M [00:00<?, ?B/s]"
      ]
     },
     "metadata": {},
     "output_type": "display_data"
    },
    {
     "data": {
      "application/vnd.jupyter.widget-view+json": {
       "model_id": "ad218b6dd309479eacec7471490f2343",
       "version_major": 2,
       "version_minor": 0
      },
      "text/plain": [
       "Generating train split:   0%|          | 0/16453 [00:00<?, ? examples/s]"
      ]
     },
     "metadata": {},
     "output_type": "display_data"
    },
    {
     "data": {
      "application/vnd.jupyter.widget-view+json": {
       "model_id": "dcb707952df5449893eb1b3fe297f408",
       "version_major": 2,
       "version_minor": 0
      },
      "text/plain": [
       "Generating validation split:   0%|          | 0/854 [00:00<?, ? examples/s]"
      ]
     },
     "metadata": {},
     "output_type": "display_data"
    },
    {
     "data": {
      "application/vnd.jupyter.widget-view+json": {
       "model_id": "f1b6a48bbc3d469dbf3083ac1a1617e1",
       "version_major": 2,
       "version_minor": 0
      },
      "text/plain": [
       "Generating test split:   0%|          | 0/246900 [00:00<?, ? examples/s]"
      ]
     },
     "metadata": {},
     "output_type": "display_data"
    },
    {
     "name": "stdout",
     "output_type": "stream",
     "text": [
      "Processing train split for language: Spanish (ES)\n",
      "Saved: ./data/multiconer\\MultiCoNER_Spanish_train.json\n",
      "Processing validation split for language: Spanish (ES)\n",
      "Saved: ./data/multiconer\\MultiCoNER_Spanish_validation.json\n",
      "Processing test split for language: Spanish (ES)\n",
      "Saved: ./data/multiconer\\MultiCoNER_Spanish_test.json\n"
     ]
    },
    {
     "data": {
      "application/vnd.jupyter.widget-view+json": {
       "model_id": "6d26ba6f4076451eb1e224c6bf469a5e",
       "version_major": 2,
       "version_minor": 0
      },
      "text/plain": [
       "0000.parquet:   0%|          | 0.00/1.87M [00:00<?, ?B/s]"
      ]
     },
     "metadata": {},
     "output_type": "display_data"
    },
    {
     "data": {
      "application/vnd.jupyter.widget-view+json": {
       "model_id": "592e8f4dd83644d18a10ae3f18416afd",
       "version_major": 2,
       "version_minor": 0
      },
      "text/plain": [
       "0000.parquet:   0%|          | 0.00/112k [00:00<?, ?B/s]"
      ]
     },
     "metadata": {},
     "output_type": "display_data"
    },
    {
     "data": {
      "application/vnd.jupyter.widget-view+json": {
       "model_id": "a245c59b8d304f8cbf09e4b9e7094abe",
       "version_major": 2,
       "version_minor": 0
      },
      "text/plain": [
       "0000.parquet:   0%|          | 0.00/25.8M [00:00<?, ?B/s]"
      ]
     },
     "metadata": {},
     "output_type": "display_data"
    },
    {
     "data": {
      "application/vnd.jupyter.widget-view+json": {
       "model_id": "c53276dcb513425da4491b097cdcbad2",
       "version_major": 2,
       "version_minor": 0
      },
      "text/plain": [
       "Generating train split:   0%|          | 0/16363 [00:00<?, ? examples/s]"
      ]
     },
     "metadata": {},
     "output_type": "display_data"
    },
    {
     "data": {
      "application/vnd.jupyter.widget-view+json": {
       "model_id": "80d89de773d647eeb7b33fede2d413d4",
       "version_major": 2,
       "version_minor": 0
      },
      "text/plain": [
       "Generating validation split:   0%|          | 0/856 [00:00<?, ? examples/s]"
      ]
     },
     "metadata": {},
     "output_type": "display_data"
    },
    {
     "data": {
      "application/vnd.jupyter.widget-view+json": {
       "model_id": "43421a9596684ad1ac6511c2115ed649",
       "version_major": 2,
       "version_minor": 0
      },
      "text/plain": [
       "Generating test split:   0%|          | 0/231190 [00:00<?, ? examples/s]"
      ]
     },
     "metadata": {},
     "output_type": "display_data"
    },
    {
     "name": "stdout",
     "output_type": "stream",
     "text": [
      "Processing train split for language: Swedish (SV)\n",
      "Saved: ./data/multiconer\\MultiCoNER_Swedish_train.json\n",
      "Processing validation split for language: Swedish (SV)\n",
      "Saved: ./data/multiconer\\MultiCoNER_Swedish_validation.json\n",
      "Processing test split for language: Swedish (SV)\n",
      "Saved: ./data/multiconer\\MultiCoNER_Swedish_test.json\n"
     ]
    },
    {
     "data": {
      "application/vnd.jupyter.widget-view+json": {
       "model_id": "136af8cac73749208759dbf8779d4718",
       "version_major": 2,
       "version_minor": 0
      },
      "text/plain": [
       "0000.parquet:   0%|          | 0.00/2.19M [00:00<?, ?B/s]"
      ]
     },
     "metadata": {},
     "output_type": "display_data"
    },
    {
     "data": {
      "application/vnd.jupyter.widget-view+json": {
       "model_id": "73f12559305b4779a62e47d8aaf4cf8e",
       "version_major": 2,
       "version_minor": 0
      },
      "text/plain": [
       "0000.parquet:   0%|          | 0.00/128k [00:00<?, ?B/s]"
      ]
     },
     "metadata": {},
     "output_type": "display_data"
    },
    {
     "data": {
      "application/vnd.jupyter.widget-view+json": {
       "model_id": "81f757fe911741609f313b986a682da4",
       "version_major": 2,
       "version_minor": 0
      },
      "text/plain": [
       "0000.parquet:   0%|          | 0.00/30.1M [00:00<?, ?B/s]"
      ]
     },
     "metadata": {},
     "output_type": "display_data"
    },
    {
     "data": {
      "application/vnd.jupyter.widget-view+json": {
       "model_id": "877490bdfbec44a0aa79d7e960ebd1a5",
       "version_major": 2,
       "version_minor": 0
      },
      "text/plain": [
       "Generating train split:   0%|          | 0/16429 [00:00<?, ? examples/s]"
      ]
     },
     "metadata": {},
     "output_type": "display_data"
    },
    {
     "data": {
      "application/vnd.jupyter.widget-view+json": {
       "model_id": "c552a93ab6454da6afbcd2a8375d3e61",
       "version_major": 2,
       "version_minor": 0
      },
      "text/plain": [
       "Generating validation split:   0%|          | 0/851 [00:00<?, ? examples/s]"
      ]
     },
     "metadata": {},
     "output_type": "display_data"
    },
    {
     "data": {
      "application/vnd.jupyter.widget-view+json": {
       "model_id": "f2270449e63c494b91889c2e7f650e27",
       "version_major": 2,
       "version_minor": 0
      },
      "text/plain": [
       "Generating test split:   0%|          | 0/238296 [00:00<?, ? examples/s]"
      ]
     },
     "metadata": {},
     "output_type": "display_data"
    },
    {
     "name": "stdout",
     "output_type": "stream",
     "text": [
      "Processing train split for language: Ukrainian (UK)\n",
      "Saved: ./data/multiconer\\MultiCoNER_Ukrainian_train.json\n",
      "Processing validation split for language: Ukrainian (UK)\n",
      "Saved: ./data/multiconer\\MultiCoNER_Ukrainian_validation.json\n",
      "Processing test split for language: Ukrainian (UK)\n",
      "Saved: ./data/multiconer\\MultiCoNER_Ukrainian_test.json\n"
     ]
    }
   ],
   "source": [
    "languages = [\n",
    "    \"Bangla (BN)\",\n",
    "    \"Chinese (ZH)\",\n",
    "    \"English (EN)\",\n",
    "    \"Farsi (FA)\",\n",
    "    \"French (FR)\",\n",
    "    \"German (DE)\",\n",
    "    \"Hindi (HI)\",\n",
    "    \"Italian (IT)\",\n",
    "    \"Multilingual (MULTI)\",\n",
    "    \"Portuguese (PT)\",\n",
    "    \"Spanish (ES)\",\n",
    "    \"Swedish (SV)\",\n",
    "    \"Ukrainian (UK)\"\n",
    "]\n",
    "\n",
    "for lang in languages:\n",
    "    process_language_splits(lang, save_dir=\"./data/multiconer\")\n"
   ]
  },
  {
   "cell_type": "markdown",
   "id": "e130681e",
   "metadata": {},
   "source": [
    "#### PIQN Model Training"
   ]
  },
  {
   "cell_type": "code",
   "execution_count": null,
   "id": "initial_id",
   "metadata": {
    "collapsed": true
   },
   "outputs": [],
   "source": [
    "!python piqn.py train --config configs/flat.conf"
   ]
  },
  {
   "cell_type": "code",
   "execution_count": null,
   "id": "74d5f660",
   "metadata": {},
   "outputs": [],
   "source": []
  },
  {
   "cell_type": "code",
   "execution_count": null,
   "id": "61f26973",
   "metadata": {},
   "outputs": [],
   "source": []
  },
  {
   "cell_type": "markdown",
   "id": "cb5a3a9a",
   "metadata": {},
   "source": [
    "#### Testing"
   ]
  },
  {
   "cell_type": "code",
   "execution_count": null,
   "id": "ea45350c",
   "metadata": {},
   "outputs": [],
   "source": []
  },
  {
   "cell_type": "code",
   "execution_count": null,
   "id": "8cd4248e",
   "metadata": {},
   "outputs": [],
   "source": []
  },
  {
   "cell_type": "code",
   "execution_count": null,
   "id": "64d3318b",
   "metadata": {},
   "outputs": [],
   "source": []
  },
  {
   "cell_type": "code",
   "execution_count": null,
   "id": "39dfd4e2",
   "metadata": {},
   "outputs": [],
   "source": []
  },
  {
   "cell_type": "code",
   "execution_count": null,
   "id": "c77baeb5",
   "metadata": {},
   "outputs": [],
   "source": []
  }
 ],
 "metadata": {
  "kernelspec": {
   "display_name": "base",
   "language": "python",
   "name": "python3"
  },
  "language_info": {
   "codemirror_mode": {
    "name": "ipython",
    "version": 3
   },
   "file_extension": ".py",
   "mimetype": "text/x-python",
   "name": "python",
   "nbconvert_exporter": "python",
   "pygments_lexer": "ipython3",
   "version": "3.12.4"
  }
 },
 "nbformat": 4,
 "nbformat_minor": 5
}
